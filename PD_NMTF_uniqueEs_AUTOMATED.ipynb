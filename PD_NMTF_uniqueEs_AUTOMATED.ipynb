{
 "cells": [
  {
   "cell_type": "markdown",
   "id": "3a3eed14",
   "metadata": {},
   "source": [
    "# step1:  create input matrices/networks from raw data"
   ]
  },
  {
   "cell_type": "code",
   "execution_count": null,
   "id": "f69222e9",
   "metadata": {},
   "outputs": [],
   "source": [
    "%%time\n",
    "%%bash\n",
    "cd step1_CreateInputNetworksMatrices\n",
    "python CreateInputNetworks.py\n",
    "cd .."
   ]
  },
  {
   "cell_type": "markdown",
   "id": "f79df6ff",
   "metadata": {},
   "source": [
    "# step2: NMTF of all network combinations "
   ]
  },
  {
   "cell_type": "code",
   "execution_count": null,
   "id": "0ca74dbe",
   "metadata": {},
   "outputs": [],
   "source": [
    "%%time\n",
    "%%bash\n",
    "cd step2_NMTF\n",
    "python CopyFiles.py\n",
    "python Main_iCell.py\n",
    "cd .."
   ]
  },
  {
   "cell_type": "markdown",
   "id": "6c573870",
   "metadata": {},
   "source": [
    "# step3: Cluster G1 NMTF"
   ]
  },
  {
   "cell_type": "code",
   "execution_count": null,
   "id": "32bb925f",
   "metadata": {},
   "outputs": [],
   "source": [
    "%%time\n",
    "%%bash\n",
    "cd step3_ClusterG1NMTF\n",
    "python CopyFiles.py\n",
    "python ClusterNMTFEmbeddings.py\n",
    "cd .."
   ]
  },
  {
   "cell_type": "markdown",
   "id": "358e0ba8",
   "metadata": {},
   "source": [
    "# step4: Isolate Clusters enriched in PD genes"
   ]
  },
  {
   "cell_type": "code",
   "execution_count": null,
   "id": "5604cf79",
   "metadata": {},
   "outputs": [],
   "source": [
    "%%time\n",
    "%%bash\n",
    "cd step4_PDgenesClustEnirch\n",
    "python CopyFiles.py\n",
    "python PDgenesClustEnirchment.py\n",
    "cd .."
   ]
  },
  {
   "cell_type": "markdown",
   "id": "c9841b14",
   "metadata": {},
   "source": [
    "# step5: Get Initial Predictions and find the Best Clustering Method"
   ]
  },
  {
   "cell_type": "code",
   "execution_count": null,
   "id": "25426845",
   "metadata": {},
   "outputs": [],
   "source": [
    "%%time\n",
    "%%bash\n",
    "cd step5_PDEnrichClusts_InitPreds_BestClustMeth\n",
    "python CopyFiles.py\n",
    "python PDEnrichClusts_DGN_DEGs.py\n",
    "cd .."
   ]
  },
  {
   "cell_type": "markdown",
   "id": "f474cb5e",
   "metadata": {},
   "source": [
    "# step6: BioAnnots Cluster Enrichment"
   ]
  },
  {
   "cell_type": "code",
   "execution_count": null,
   "id": "9f7e16e7",
   "metadata": {},
   "outputs": [],
   "source": [
    "%%time\n",
    "%%bash\n",
    "cd step6_BioAnnotsClustEnrich\n",
    "python CopyFiles.py\n",
    "python BioAnnotsClustEnrich_kmeans.py\n",
    "cd .."
   ]
  },
  {
   "cell_type": "markdown",
   "id": "8401b5c5",
   "metadata": {},
   "source": [
    "# step7: Create 4 Sets Of Genes "
   ]
  },
  {
   "cell_type": "code",
   "execution_count": null,
   "id": "9934972a",
   "metadata": {},
   "outputs": [],
   "source": [
    "%%time\n",
    "%%bash\n",
    "cd step7_Create4SetsOfGenes\n",
    "python CopyFiles.py\n",
    "python Create4SetsOfGenes.py\n",
    "cd .."
   ]
  },
  {
   "cell_type": "markdown",
   "id": "0b46a6cd",
   "metadata": {},
   "source": [
    "# step8: Similarity/Distance Between Gene Embeddings"
   ]
  },
  {
   "cell_type": "code",
   "execution_count": null,
   "id": "86709005",
   "metadata": {},
   "outputs": [],
   "source": [
    "%%time\n",
    "%%bash\n",
    "cd step8_SimilarityBetwGeneEmbeddings\n",
    "python CopyFiles.py\n",
    "python SimilarityBetwGeneEmbeddings.py\n",
    "cd .."
   ]
  },
  {
   "cell_type": "markdown",
   "id": "c4112074",
   "metadata": {},
   "source": [
    "# step9: Stage Specific PD predictions; Core PD predictions; Best similarity/distance measure"
   ]
  },
  {
   "cell_type": "code",
   "execution_count": null,
   "id": "4d155d88",
   "metadata": {},
   "outputs": [],
   "source": [
    "%%time\n",
    "%%bash\n",
    "cd step9_StageSpec_CorePreds_BestSimMeas\n",
    "python CopyFiles.py\n",
    "python PDpredictsEmbeddSim.py\n",
    "cd .."
   ]
  },
  {
   "cell_type": "markdown",
   "id": "aa2eec5b",
   "metadata": {},
   "source": [
    "# step10: Validate StageSpec and Core PD Preds with PubMed/DEGs"
   ]
  },
  {
   "cell_type": "code",
   "execution_count": null,
   "id": "ae42b743",
   "metadata": {},
   "outputs": [],
   "source": [
    "%%time\n",
    "%%bash\n",
    "cd step10_PubMedDEG_Validation\n",
    "python CopyFiles.py\n",
    "python PubmedDEG_Validation.py\n",
    "cd .."
   ]
  },
  {
   "cell_type": "markdown",
   "id": "93041972",
   "metadata": {},
   "source": [
    "# step11: KEGG Enrichment Validation"
   ]
  },
  {
   "cell_type": "code",
   "execution_count": null,
   "id": "1840ea24",
   "metadata": {},
   "outputs": [],
   "source": [
    "%%time\n",
    "%%bash\n",
    "cd step11_KEGGEnrichmentAnalysis\n",
    "python CopyFiles.py\n",
    "python KEGGEnrichmentAnalysis.py\n",
    "cd .."
   ]
  },
  {
   "cell_type": "code",
   "execution_count": null,
   "id": "f4d96126",
   "metadata": {},
   "outputs": [],
   "source": []
  },
  {
   "cell_type": "markdown",
   "id": "504fd1c2",
   "metadata": {},
   "source": [
    "# auxStep_JustifyClusteringDistanceApproach"
   ]
  },
  {
   "cell_type": "code",
   "execution_count": null,
   "id": "04aecf4f",
   "metadata": {},
   "outputs": [],
   "source": [
    "%%time\n",
    "%%bash\n",
    "cd auxStep_JustifyClusteringDistanceApproach\n",
    "cd DistanceFromPDGene\n",
    "python CopyFiles.py\n",
    "python DistanceFromPDGenes.py\n",
    "cd ..\n",
    "\n",
    "cd MovingDistancePDControl\n",
    "python CopyFiles.py\n",
    "python MovingDistancePDControl.py\n",
    "cd ..\n",
    "\n",
    "cd PDEnrichCLusts_DistanceFromPDGenes\n",
    "python CopyFiles.py\n",
    "python PDEnrichCLusts_DistanceFromPDGenes.py\n",
    "cd .."
   ]
  },
  {
   "cell_type": "code",
   "execution_count": null,
   "id": "26cf51b6",
   "metadata": {},
   "outputs": [],
   "source": []
  }
 ],
 "metadata": {
  "kernelspec": {
   "display_name": "Python 3 (ipykernel)",
   "language": "python",
   "name": "python3"
  },
  "language_info": {
   "codemirror_mode": {
    "name": "ipython",
    "version": 3
   },
   "file_extension": ".py",
   "mimetype": "text/x-python",
   "name": "python",
   "nbconvert_exporter": "python",
   "pygments_lexer": "ipython3",
   "version": "3.10.2"
  }
 },
 "nbformat": 4,
 "nbformat_minor": 5
}
